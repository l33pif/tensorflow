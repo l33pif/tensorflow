{
  "nbformat": 4,
  "nbformat_minor": 0,
  "metadata": {
    "colab": {
      "name": "tensorflow.ipynb",
      "provenance": []
    },
    "kernelspec": {
      "name": "python3",
      "display_name": "Python 3"
    }
  },
  "cells": [
    {
      "cell_type": "code",
      "metadata": {
        "id": "53zh-SfWfSup",
        "outputId": "92e0d6a5-0312-46c2-8012-2163e244cb0e",
        "colab": {
          "base_uri": "https://localhost:8080/",
          "height": 34
        }
      },
      "source": [
        "from google.colab import drive\n",
        "drive.mount('/content/drive')"
      ],
      "execution_count": 68,
      "outputs": [
        {
          "output_type": "stream",
          "text": [
            "Drive already mounted at /content/drive; to attempt to forcibly remount, call drive.mount(\"/content/drive\", force_remount=True).\n"
          ],
          "name": "stdout"
        }
      ]
    },
    {
      "cell_type": "code",
      "metadata": {
        "id": "07XITcU2fZPx"
      },
      "source": [
        "import pandas as pd\n",
        "import numpy as np\n",
        "import tensorflow.compat.v1 as tf\n",
        "tf.disable_v2_behavior()\n",
        "import matplotlib.pyplot as plt"
      ],
      "execution_count": 69,
      "outputs": []
    },
    {
      "cell_type": "code",
      "metadata": {
        "id": "emRce9n3f6mS",
        "outputId": "b18dc483-4456-46c0-c97e-d72348c5d280",
        "colab": {
          "base_uri": "https://localhost:8080/",
          "height": 68
        }
      },
      "source": [
        "%cd '/content/drive/My Drive/Colab Notebooks/db'\n",
        "!ls"
      ],
      "execution_count": 70,
      "outputs": [
        {
          "output_type": "stream",
          "text": [
            "/content/drive/My Drive/Colab Notebooks/db\n",
            "insurance.csv\t   LR_ML.xlsx\t       Meteorite_Landings.csv\n",
            "london_merged.csv  Mall_Customers.csv  titanic.csv\n"
          ],
          "name": "stdout"
        }
      ]
    },
    {
      "cell_type": "code",
      "metadata": {
        "id": "32rWqtSWgRoj"
      },
      "source": [
        "df = pd.read_excel('LR_ML.xlsx')"
      ],
      "execution_count": 71,
      "outputs": []
    },
    {
      "cell_type": "code",
      "metadata": {
        "id": "iJbY1nWOgv9g"
      },
      "source": [
        "months = df['Machine Age (Months)'].values\n",
        "MTBF = df['Mean Time Between Failure (Days)'].values\n"
      ],
      "execution_count": 72,
      "outputs": []
    },
    {
      "cell_type": "code",
      "metadata": {
        "id": "W1hlvzU2jFIU"
      },
      "source": [
        "learning_rate = 0.1\n",
        "training_epochs = 1000\n",
        "step = 50"
      ],
      "execution_count": 73,
      "outputs": []
    },
    {
      "cell_type": "code",
      "metadata": {
        "id": "NhQNuNa1ljJO"
      },
      "source": [
        "train_X = np.asarray(months)\n",
        "train_Y = np.asarray(MTBF)\n",
        "samples = train_X.shape[0]"
      ],
      "execution_count": 74,
      "outputs": []
    },
    {
      "cell_type": "code",
      "metadata": {
        "id": "1R9sM79vnQoa"
      },
      "source": [
        "X = tf.placeholder('float')\n",
        "Y = tf.placeholder('float')"
      ],
      "execution_count": 75,
      "outputs": []
    },
    {
      "cell_type": "code",
      "metadata": {
        "id": "H3XZpv25lzgY"
      },
      "source": [
        "weight = tf.Variable(np.random.randn(), name='weight')\n",
        "bias = tf.Variable(np.random.randn(), name='bias')\n",
        "pred = tf.add(tf.multiply(X,weight),bias)"
      ],
      "execution_count": 76,
      "outputs": []
    },
    {
      "cell_type": "code",
      "metadata": {
        "id": "mAMA0-mmmDIi"
      },
      "source": [
        "error = tf.reduce_sum(tf.pow(pred - Y, 2))/(2*samples)"
      ],
      "execution_count": 77,
      "outputs": []
    },
    {
      "cell_type": "code",
      "metadata": {
        "id": "djoYw3gTpZLM"
      },
      "source": [
        "optimizer = tf.train.GradientDescentOptimizer(learning_rate).minimize(error)"
      ],
      "execution_count": 78,
      "outputs": []
    },
    {
      "cell_type": "code",
      "metadata": {
        "id": "70rRlF8dp2tE"
      },
      "source": [
        "init = tf.global_variables_initializer()"
      ],
      "execution_count": 79,
      "outputs": []
    },
    {
      "cell_type": "code",
      "metadata": {
        "id": "NPRkKCh4qS1K",
        "outputId": "5a7c1eef-56fe-46b0-ff90-c7b3a893d83a",
        "colab": {
          "base_uri": "https://localhost:8080/",
          "height": 955
        }
      },
      "source": [
        "#Start training\n",
        "with tf.Session() as sess:\n",
        "\n",
        "    # Run the initializer\n",
        "    sess.run(init)\n",
        "\n",
        "    # Fit all training data\n",
        "    for epoch in range(training_epochs):\n",
        "        for (x, y) in zip(train_X, train_Y):\n",
        "            sess.run(optimizer, feed_dict={X: x, Y: y})\n",
        "\n",
        "        # Display logs per epoch step\n",
        "        if (epoch+1) % step == 0:\n",
        "            c = sess.run(error, feed_dict={X: train_X, Y:train_Y})\n",
        "            print(\"Epoch:\", '%04d' % (epoch+1), \"error=\", \"{:.9f}\".format(c), \\\n",
        "                \"W=\", sess.run(weight), \"b=\", sess.run(bias))\n",
        "\n",
        "    print(\"Optimization Finished!\")\n",
        "    training_error = sess.run(error, feed_dict={X: train_X, Y: train_Y})\n",
        "    print(\"Training error=\", training_error, \"W=\", sess.run(weight), \"b=\", sess.run(bias), '\\n')\n",
        "\n",
        "    # Graphic display\n",
        "    plt.plot(train_X, train_Y, 'ro', label='Original data')\n",
        "    plt.plot(train_X, sess.run(weight) * train_X + sess.run(bias), label='Fitted line')\n",
        "    plt.legend()\n",
        "    plt.show()\n",
        "\n",
        "    # Testing example, as requested \n",
        "    test_X = np.asarray([2,4,6,8,10])\n",
        "    test_Y = np.asarray([25,23,21,19,17])\n",
        "\n",
        "    print(\"Testing... (Mean square loss Comparison)\")\n",
        "    testing_error = sess.run(\n",
        "        tf.reduce_sum(tf.pow(pred - Y, 2)) / (2 * test_X.shape[0]),\n",
        "        feed_dict={X: test_X, Y: test_Y})  # same function as cost above\n",
        "    print(\"Testing error=\", testing_error)\n",
        "    print(\"Absolute mean square loss difference:\", abs(\n",
        "        training_error - testing_error))\n",
        "\n",
        "    plt.plot(test_X, test_Y, 'bo', label='Testing data')\n",
        "    plt.plot(train_X, sess.run(weight) * train_X + sess.run(bias), label='Fitted line')\n",
        "    plt.legend()\n",
        "    plt.show()"
      ],
      "execution_count": 80,
      "outputs": [
        {
          "output_type": "stream",
          "text": [
            "Epoch: 0050 error= 503.571746826 W= -2.0108035 b= 20.815384\n",
            "Epoch: 0100 error= 411.383270264 W= -2.334811 b= 30.75902\n",
            "Epoch: 0150 error= 377.585632324 W= -2.4954014 b= 35.687378\n",
            "Epoch: 0200 error= 363.755859375 W= -2.5749946 b= 38.130013\n",
            "Epoch: 0250 error= 357.619232178 W= -2.614442 b= 39.34062\n",
            "Epoch: 0300 error= 354.753173828 W= -2.633988 b= 39.94054\n",
            "Epoch: 0350 error= 353.377014160 W= -2.6436808 b= 40.237953\n",
            "Epoch: 0400 error= 352.705749512 W= -2.6484838 b= 40.385326\n",
            "Epoch: 0450 error= 352.374145508 W= -2.6508617 b= 40.458385\n",
            "Epoch: 0500 error= 352.210357666 W= -2.6520422 b= 40.494644\n",
            "Epoch: 0550 error= 352.131652832 W= -2.6526246 b= 40.512432\n",
            "Epoch: 0600 error= 352.093078613 W= -2.6529233 b= 40.521465\n",
            "Epoch: 0650 error= 352.071563721 W= -2.6530724 b= 40.526093\n",
            "Epoch: 0700 error= 352.060760498 W= -2.653136 b= 40.52815\n",
            "Epoch: 0750 error= 352.058349609 W= -2.6531703 b= 40.529083\n",
            "Epoch: 0800 error= 352.057159424 W= -2.6531801 b= 40.529377\n",
            "Epoch: 0850 error= 352.055328369 W= -2.6531808 b= 40.529488\n",
            "Epoch: 0900 error= 352.055328369 W= -2.6531808 b= 40.529488\n",
            "Epoch: 0950 error= 352.055328369 W= -2.6531808 b= 40.529488\n",
            "Epoch: 1000 error= 352.055328369 W= -2.6531808 b= 40.529488\n",
            "Optimization Finished!\n",
            "Training error= 352.05533 W= -2.6531808 b= 40.529488 \n",
            "\n"
          ],
          "name": "stdout"
        },
        {
          "output_type": "display_data",
          "data": {
            "image/png": "[encoded data removed]",
            "text/plain": [
              "<Figure size 432x288 with 1 Axes>"
            ]
          },
          "metadata": {
            "tags": [],
            "needs_background": "light"
          }
        },
        {
          "output_type": "stream",
          "text": [
            "Testing... (Mean square loss Comparison)\n",
            "Testing error= 17.44953\n",
            "Absolute mean square loss difference: 334.6058\n"
          ],
          "name": "stdout"
        },
        {
          "output_type": "display_data",
          "data": {
            "image/png": "[encoded data removed]",
            "text/plain": [
              "<Figure size 432x288 with 1 Axes>"
            ]
          },
          "metadata": {
            "tags": [],
            "needs_background": "light"
          }
        }
      ]
    }
  ]
}